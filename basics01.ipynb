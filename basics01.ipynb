{
  "nbformat": 4,
  "nbformat_minor": 0,
  "metadata": {
    "colab": {
      "name": "basics01.ipynb",
      "version": "0.3.2",
      "provenance": [],
      "collapsed_sections": [],
      "include_colab_link": true
    },
    "kernelspec": {
      "name": "python3",
      "display_name": "Python 3"
    }
  },
  "cells": [
    {
      "cell_type": "markdown",
      "metadata": {
        "id": "view-in-github",
        "colab_type": "text"
      },
      "source": [
        "<a href=\"https://colab.research.google.com/github/NelisW/colabrepo/blob/master/basics01.ipynb\" target=\"_parent\"><img src=\"https://colab.research.google.com/assets/colab-badge.svg\" alt=\"Open In Colab\"/></a>"
      ]
    },
    {
      "cell_type": "code",
      "metadata": {
        "id": "PS97UHwcGszJ",
        "colab_type": "code",
        "colab": {
          "base_uri": "https://localhost:8080/",
          "height": 110
        },
        "outputId": "57db7716-8298-4fc6-dad6-2b2025a85357"
      },
      "source": [
        "# the world's simples TensorFlow app\n",
        "\n",
        "# this is TensorFlow 1 style\n",
        "\n",
        "# add two numbers together\n",
        "\n",
        "import tensorflow as tf\n",
        "\n",
        "a = tf.Variable(1, name=\"a\")\n",
        "b = tf.Variable(2, name=\"b\")\n",
        "\n",
        "f = a + b # f is the relationship graph between a and b\n",
        "\n",
        "init= tf.global_variables_initializer()\n",
        "with tf.Session() as s:\n",
        "  init.run()\n",
        "  print( f.eval() )\n",
        " "
      ],
      "execution_count": 1,
      "outputs": [
        {
          "output_type": "stream",
          "text": [
            "WARNING:tensorflow:From /usr/local/lib/python3.6/dist-packages/tensorflow/python/framework/op_def_library.py:263: colocate_with (from tensorflow.python.framework.ops) is deprecated and will be removed in a future version.\n",
            "Instructions for updating:\n",
            "Colocations handled automatically by placer.\n",
            "3\n"
          ],
          "name": "stdout"
        }
      ]
    },
    {
      "cell_type": "code",
      "metadata": {
        "id": "HSMlXNHqQ4O6",
        "colab_type": "code",
        "colab": {}
      },
      "source": [
        ""
      ],
      "execution_count": 0,
      "outputs": []
    }
  ]
}